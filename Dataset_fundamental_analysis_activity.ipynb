{
  "nbformat": 4,
  "nbformat_minor": 0,
  "metadata": {
    "colab": {
      "name": "Dataset_fundamental_analysis_activity.ipynb",
      "provenance": [],
      "collapsed_sections": [],
      "toc_visible": true,
      "include_colab_link": true
    },
    "kernelspec": {
      "name": "python3",
      "display_name": "Python 3"
    }
  },
  "cells": [
    {
      "cell_type": "markdown",
      "metadata": {
        "id": "view-in-github",
        "colab_type": "text"
      },
      "source": [
        "<a href=\"https://colab.research.google.com/github/Farnaaaz/Student-Grade-Analysis-/blob/main/Dataset_fundamental_analysis_activity.ipynb\" target=\"_parent\"><img src=\"https://colab.research.google.com/assets/colab-badge.svg\" alt=\"Open In Colab\"/></a>"
      ]
    },
    {
      "cell_type": "code",
      "metadata": {
        "id": "8uv4xY4NmSGE"
      },
      "source": [
        "import pandas as pd\n",
        "import matplotlib as plt"
      ],
      "execution_count": 12,
      "outputs": []
    },
    {
      "cell_type": "code",
      "metadata": {
        "id": "7_tjLvBomUDF"
      },
      "source": [
        "#df = pd.read_csv(\"C:/Users/Farnaz/Desktop/Dataset.csv\")"
      ],
      "execution_count": 10,
      "outputs": []
    },
    {
      "cell_type": "code",
      "metadata": {
        "id": "QAoSTVlqmUE4",
        "colab": {
          "resources": {
            "http://localhost:8080/nbextensions/google.colab/files.js": {
              "data": "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",
              "ok": true,
              "headers": [
                [
                  "content-type",
                  "application/javascript"
                ]
              ],
              "status": 200,
              "status_text": ""
            }
          },
          "base_uri": "https://localhost:8080/",
          "height": 73
        },
        "outputId": "535e8919-6819-4f67-d6b3-696b2c4d576a"
      },
      "source": [
        "from google.colab import files\n",
        "df = files.upload()"
      ],
      "execution_count": 3,
      "outputs": [
        {
          "output_type": "display_data",
          "data": {
            "text/html": [
              "\n",
              "     <input type=\"file\" id=\"files-31fb7f01-4153-4541-966b-cd97a3acd7ba\" name=\"files[]\" multiple disabled\n",
              "        style=\"border:none\" />\n",
              "     <output id=\"result-31fb7f01-4153-4541-966b-cd97a3acd7ba\">\n",
              "      Upload widget is only available when the cell has been executed in the\n",
              "      current browser session. Please rerun this cell to enable.\n",
              "      </output>\n",
              "      <script src=\"/nbextensions/google.colab/files.js\"></script> "
            ],
            "text/plain": [
              "<IPython.core.display.HTML object>"
            ]
          },
          "metadata": {
            "tags": []
          }
        },
        {
          "output_type": "stream",
          "text": [
            "Saving Dataset.csv to Dataset.csv\n"
          ],
          "name": "stdout"
        }
      ]
    },
    {
      "cell_type": "code",
      "metadata": {
        "id": "_wfnjL3wn8Ef"
      },
      "source": [
        "df=pd.read_csv('Dataset.csv')"
      ],
      "execution_count": null,
      "outputs": []
    },
    {
      "cell_type": "code",
      "metadata": {
        "id": "reStLP9hn8Gu"
      },
      "source": [
        "df.head(5)"
      ],
      "execution_count": null,
      "outputs": []
    },
    {
      "cell_type": "code",
      "metadata": {
        "id": "RmvNFZnCmUB8"
      },
      "source": [
        "df['sex'] = df['sex'].apply(lambda x: 1 if x == 'F' else x)\n",
        "df['sex'] = df['sex'].apply(lambda x: 0 if x == 'M' else x)"
      ],
      "execution_count": null,
      "outputs": []
    },
    {
      "cell_type": "code",
      "metadata": {
        "id": "JA0fUFuDojwl",
        "colab": {
          "base_uri": "https://localhost:8080/",
          "height": 204
        },
        "outputId": "4ca4ea74-2bf4-4227-86f6-5937a3a6b211"
      },
      "source": [
        "df.head(5)"
      ],
      "execution_count": null,
      "outputs": [
        {
          "output_type": "execute_result",
          "data": {
            "text/html": [
              "<div>\n",
              "<style scoped>\n",
              "    .dataframe tbody tr th:only-of-type {\n",
              "        vertical-align: middle;\n",
              "    }\n",
              "\n",
              "    .dataframe tbody tr th {\n",
              "        vertical-align: top;\n",
              "    }\n",
              "\n",
              "    .dataframe thead th {\n",
              "        text-align: right;\n",
              "    }\n",
              "</style>\n",
              "<table border=\"1\" class=\"dataframe\">\n",
              "  <thead>\n",
              "    <tr style=\"text-align: right;\">\n",
              "      <th></th>\n",
              "      <th>student_id</th>\n",
              "      <th>sex</th>\n",
              "      <th>age</th>\n",
              "      <th>failures</th>\n",
              "      <th>Dalc</th>\n",
              "      <th>Walc</th>\n",
              "      <th>G1</th>\n",
              "      <th>G2</th>\n",
              "      <th>G3</th>\n",
              "    </tr>\n",
              "  </thead>\n",
              "  <tbody>\n",
              "    <tr>\n",
              "      <th>0</th>\n",
              "      <td>1</td>\n",
              "      <td>1</td>\n",
              "      <td>18</td>\n",
              "      <td>0</td>\n",
              "      <td>1</td>\n",
              "      <td>1</td>\n",
              "      <td>0</td>\n",
              "      <td>11</td>\n",
              "      <td>11</td>\n",
              "    </tr>\n",
              "    <tr>\n",
              "      <th>1</th>\n",
              "      <td>2</td>\n",
              "      <td>1</td>\n",
              "      <td>17</td>\n",
              "      <td>0</td>\n",
              "      <td>1</td>\n",
              "      <td>1</td>\n",
              "      <td>9</td>\n",
              "      <td>11</td>\n",
              "      <td>11</td>\n",
              "    </tr>\n",
              "    <tr>\n",
              "      <th>2</th>\n",
              "      <td>3</td>\n",
              "      <td>1</td>\n",
              "      <td>15</td>\n",
              "      <td>0</td>\n",
              "      <td>2</td>\n",
              "      <td>3</td>\n",
              "      <td>12</td>\n",
              "      <td>13</td>\n",
              "      <td>12</td>\n",
              "    </tr>\n",
              "    <tr>\n",
              "      <th>3</th>\n",
              "      <td>4</td>\n",
              "      <td>1</td>\n",
              "      <td>15</td>\n",
              "      <td>0</td>\n",
              "      <td>1</td>\n",
              "      <td>1</td>\n",
              "      <td>14</td>\n",
              "      <td>14</td>\n",
              "      <td>14</td>\n",
              "    </tr>\n",
              "    <tr>\n",
              "      <th>4</th>\n",
              "      <td>5</td>\n",
              "      <td>1</td>\n",
              "      <td>16</td>\n",
              "      <td>0</td>\n",
              "      <td>1</td>\n",
              "      <td>2</td>\n",
              "      <td>11</td>\n",
              "      <td>13</td>\n",
              "      <td>13</td>\n",
              "    </tr>\n",
              "  </tbody>\n",
              "</table>\n",
              "</div>"
            ],
            "text/plain": [
              "   student_id  sex  age  failures  Dalc  Walc  G1  G2  G3\n",
              "0           1    1   18         0     1     1   0  11  11\n",
              "1           2    1   17         0     1     1   9  11  11\n",
              "2           3    1   15         0     2     3  12  13  12\n",
              "3           4    1   15         0     1     1  14  14  14\n",
              "4           5    1   16         0     1     2  11  13  13"
            ]
          },
          "metadata": {
            "tags": []
          },
          "execution_count": 68
        }
      ]
    },
    {
      "cell_type": "code",
      "metadata": {
        "id": "6TYbQewMojyz"
      },
      "source": [
        "X = df.drop(['G3'], axis=1).values\n",
        "y = df['G3'].values"
      ],
      "execution_count": null,
      "outputs": []
    },
    {
      "cell_type": "code",
      "metadata": {
        "id": "TNO5kAK0oj1O"
      },
      "source": [
        "#from sklearn.model_selection import train_test_split\n",
        "\n",
        "#X_train, X_valid, y_train, y_valid = train_test_split(X, y, test_size=0.2, random_state=42)"
      ],
      "execution_count": null,
      "outputs": []
    },
    {
      "cell_type": "code",
      "metadata": {
        "id": "oJu_oQmYp6fu",
        "colab": {
          "base_uri": "https://localhost:8080/",
          "height": 34
        },
        "outputId": "c53ad622-dfde-48eb-9a54-ee9c7b6fe0cf"
      },
      "source": [
        "X_train.shape"
      ],
      "execution_count": null,
      "outputs": [
        {
          "output_type": "execute_result",
          "data": {
            "text/plain": [
              "(519, 8)"
            ]
          },
          "metadata": {
            "tags": []
          },
          "execution_count": 55
        }
      ]
    },
    {
      "cell_type": "code",
      "metadata": {
        "id": "pORd-xmg6clW"
      },
      "source": [
        "male =  df['sex']==0\n",
        "dfmale = df[male]\n",
        "female =  df['sex']==1\n",
        "dffemale = df[female]"
      ],
      "execution_count": null,
      "outputs": []
    },
    {
      "cell_type": "code",
      "metadata": {
        "id": "DQj48Znz6d4H"
      },
      "source": [
        "female =  df['sex']==1\n",
        "dffemale = df[female]"
      ],
      "execution_count": null,
      "outputs": []
    },
    {
      "cell_type": "code",
      "metadata": {
        "id": "qXS2JQD26d6k",
        "colab": {
          "base_uri": "https://localhost:8080/",
          "height": 545
        },
        "outputId": "ddc0d553-5f31-4bee-ca42-876ff33f325b"
      },
      "source": [
        "plt.boxplot(dfmale['G3'])\n",
        "plt.title('Male')\n",
        "\n",
        "plt.show()\n",
        "plt.boxplot(dffemale['G3'])\n",
        "plt.title('Female')\n",
        "plt.show()"
      ],
      "execution_count": null,
      "outputs": [
        {
          "output_type": "display_data",
          "data": {
            "image/png": "[encoded data removed]",
            "text/plain": [
              "<Figure size 432x288 with 1 Axes>"
            ]
          },
          "metadata": {
            "tags": []
          }
        },
        {
          "output_type": "display_data",
          "data": {
            "image/png": "[encoded data removed]",
            "text/plain": [
              "<Figure size 432x288 with 1 Axes>"
            ]
          },
          "metadata": {
            "tags": []
          }
        }
      ]
    },
    {
      "cell_type": "code",
      "metadata": {
        "id": "EYHO5py86i0U",
        "colab": {
          "base_uri": "https://localhost:8080/",
          "height": 297
        },
        "outputId": "9d7aa74c-0a02-47c0-efa9-026e499a975f"
      },
      "source": [
        "dffemale.describe()"
      ],
      "execution_count": null,
      "outputs": [
        {
          "output_type": "execute_result",
          "data": {
            "text/html": [
              "<div>\n",
              "<style scoped>\n",
              "    .dataframe tbody tr th:only-of-type {\n",
              "        vertical-align: middle;\n",
              "    }\n",
              "\n",
              "    .dataframe tbody tr th {\n",
              "        vertical-align: top;\n",
              "    }\n",
              "\n",
              "    .dataframe thead th {\n",
              "        text-align: right;\n",
              "    }\n",
              "</style>\n",
              "<table border=\"1\" class=\"dataframe\">\n",
              "  <thead>\n",
              "    <tr style=\"text-align: right;\">\n",
              "      <th></th>\n",
              "      <th>student_id</th>\n",
              "      <th>sex</th>\n",
              "      <th>age</th>\n",
              "      <th>failures</th>\n",
              "      <th>Dalc</th>\n",
              "      <th>Walc</th>\n",
              "      <th>G1</th>\n",
              "      <th>G2</th>\n",
              "      <th>G3</th>\n",
              "    </tr>\n",
              "  </thead>\n",
              "  <tbody>\n",
              "    <tr>\n",
              "      <th>count</th>\n",
              "      <td>383.000000</td>\n",
              "      <td>383.0</td>\n",
              "      <td>383.000000</td>\n",
              "      <td>383.000000</td>\n",
              "      <td>383.000000</td>\n",
              "      <td>383.000000</td>\n",
              "      <td>383.000000</td>\n",
              "      <td>383.000000</td>\n",
              "      <td>383.000000</td>\n",
              "    </tr>\n",
              "    <tr>\n",
              "      <th>mean</th>\n",
              "      <td>342.584856</td>\n",
              "      <td>1.0</td>\n",
              "      <td>16.788512</td>\n",
              "      <td>0.185379</td>\n",
              "      <td>1.284595</td>\n",
              "      <td>1.937337</td>\n",
              "      <td>11.637076</td>\n",
              "      <td>11.822454</td>\n",
              "      <td>12.253264</td>\n",
              "    </tr>\n",
              "    <tr>\n",
              "      <th>std</th>\n",
              "      <td>184.256813</td>\n",
              "      <td>0.0</td>\n",
              "      <td>1.175524</td>\n",
              "      <td>0.516325</td>\n",
              "      <td>0.659166</td>\n",
              "      <td>1.059112</td>\n",
              "      <td>2.794232</td>\n",
              "      <td>2.967506</td>\n",
              "      <td>3.124147</td>\n",
              "    </tr>\n",
              "    <tr>\n",
              "      <th>min</th>\n",
              "      <td>1.000000</td>\n",
              "      <td>1.0</td>\n",
              "      <td>15.000000</td>\n",
              "      <td>0.000000</td>\n",
              "      <td>1.000000</td>\n",
              "      <td>1.000000</td>\n",
              "      <td>0.000000</td>\n",
              "      <td>0.000000</td>\n",
              "      <td>0.000000</td>\n",
              "    </tr>\n",
              "    <tr>\n",
              "      <th>25%</th>\n",
              "      <td>194.000000</td>\n",
              "      <td>1.0</td>\n",
              "      <td>16.000000</td>\n",
              "      <td>0.000000</td>\n",
              "      <td>1.000000</td>\n",
              "      <td>1.000000</td>\n",
              "      <td>10.000000</td>\n",
              "      <td>10.000000</td>\n",
              "      <td>10.000000</td>\n",
              "    </tr>\n",
              "    <tr>\n",
              "      <th>50%</th>\n",
              "      <td>359.000000</td>\n",
              "      <td>1.0</td>\n",
              "      <td>17.000000</td>\n",
              "      <td>0.000000</td>\n",
              "      <td>1.000000</td>\n",
              "      <td>2.000000</td>\n",
              "      <td>12.000000</td>\n",
              "      <td>12.000000</td>\n",
              "      <td>12.000000</td>\n",
              "    </tr>\n",
              "    <tr>\n",
              "      <th>75%</th>\n",
              "      <td>493.500000</td>\n",
              "      <td>1.0</td>\n",
              "      <td>18.000000</td>\n",
              "      <td>0.000000</td>\n",
              "      <td>1.000000</td>\n",
              "      <td>3.000000</td>\n",
              "      <td>14.000000</td>\n",
              "      <td>14.000000</td>\n",
              "      <td>14.000000</td>\n",
              "    </tr>\n",
              "    <tr>\n",
              "      <th>max</th>\n",
              "      <td>647.000000</td>\n",
              "      <td>1.0</td>\n",
              "      <td>21.000000</td>\n",
              "      <td>3.000000</td>\n",
              "      <td>5.000000</td>\n",
              "      <td>5.000000</td>\n",
              "      <td>19.000000</td>\n",
              "      <td>19.000000</td>\n",
              "      <td>19.000000</td>\n",
              "    </tr>\n",
              "  </tbody>\n",
              "</table>\n",
              "</div>"
            ],
            "text/plain": [
              "       student_id    sex         age  ...          G1          G2          G3\n",
              "count  383.000000  383.0  383.000000  ...  383.000000  383.000000  383.000000\n",
              "mean   342.584856    1.0   16.788512  ...   11.637076   11.822454   12.253264\n",
              "std    184.256813    0.0    1.175524  ...    2.794232    2.967506    3.124147\n",
              "min      1.000000    1.0   15.000000  ...    0.000000    0.000000    0.000000\n",
              "25%    194.000000    1.0   16.000000  ...   10.000000   10.000000   10.000000\n",
              "50%    359.000000    1.0   17.000000  ...   12.000000   12.000000   12.000000\n",
              "75%    493.500000    1.0   18.000000  ...   14.000000   14.000000   14.000000\n",
              "max    647.000000    1.0   21.000000  ...   19.000000   19.000000   19.000000\n",
              "\n",
              "[8 rows x 9 columns]"
            ]
          },
          "metadata": {
            "tags": []
          },
          "execution_count": 79
        }
      ]
    },
    {
      "cell_type": "code",
      "metadata": {
        "id": "xYn-Byt06k3F",
        "colab": {
          "base_uri": "https://localhost:8080/",
          "height": 297
        },
        "outputId": "c3c1a51a-b0a7-4157-bae4-63cbdadcfd36"
      },
      "source": [
        "dfmale.describe()"
      ],
      "execution_count": null,
      "outputs": [
        {
          "output_type": "execute_result",
          "data": {
            "text/html": [
              "<div>\n",
              "<style scoped>\n",
              "    .dataframe tbody tr th:only-of-type {\n",
              "        vertical-align: middle;\n",
              "    }\n",
              "\n",
              "    .dataframe tbody tr th {\n",
              "        vertical-align: top;\n",
              "    }\n",
              "\n",
              "    .dataframe thead th {\n",
              "        text-align: right;\n",
              "    }\n",
              "</style>\n",
              "<table border=\"1\" class=\"dataframe\">\n",
              "  <thead>\n",
              "    <tr style=\"text-align: right;\">\n",
              "      <th></th>\n",
              "      <th>student_id</th>\n",
              "      <th>sex</th>\n",
              "      <th>age</th>\n",
              "      <th>failures</th>\n",
              "      <th>Dalc</th>\n",
              "      <th>Walc</th>\n",
              "      <th>G1</th>\n",
              "      <th>G2</th>\n",
              "      <th>G3</th>\n",
              "    </tr>\n",
              "  </thead>\n",
              "  <tbody>\n",
              "    <tr>\n",
              "      <th>count</th>\n",
              "      <td>266.000000</td>\n",
              "      <td>266.0</td>\n",
              "      <td>266.000000</td>\n",
              "      <td>266.000000</td>\n",
              "      <td>266.000000</td>\n",
              "      <td>266.000000</td>\n",
              "      <td>266.000000</td>\n",
              "      <td>266.000000</td>\n",
              "      <td>266.000000</td>\n",
              "    </tr>\n",
              "    <tr>\n",
              "      <th>mean</th>\n",
              "      <td>299.680451</td>\n",
              "      <td>0.0</td>\n",
              "      <td>16.680451</td>\n",
              "      <td>0.274436</td>\n",
              "      <td>1.815789</td>\n",
              "      <td>2.774436</td>\n",
              "      <td>11.056391</td>\n",
              "      <td>11.206767</td>\n",
              "      <td>11.406015</td>\n",
              "    </tr>\n",
              "    <tr>\n",
              "      <th>std</th>\n",
              "      <td>189.555785</td>\n",
              "      <td>0.0</td>\n",
              "      <td>1.276550</td>\n",
              "      <td>0.686710</td>\n",
              "      <td>1.139304</td>\n",
              "      <td>1.414835</td>\n",
              "      <td>2.640865</td>\n",
              "      <td>2.800019</td>\n",
              "      <td>3.320690</td>\n",
              "    </tr>\n",
              "    <tr>\n",
              "      <th>min</th>\n",
              "      <td>6.000000</td>\n",
              "      <td>0.0</td>\n",
              "      <td>15.000000</td>\n",
              "      <td>0.000000</td>\n",
              "      <td>1.000000</td>\n",
              "      <td>1.000000</td>\n",
              "      <td>4.000000</td>\n",
              "      <td>0.000000</td>\n",
              "      <td>0.000000</td>\n",
              "    </tr>\n",
              "    <tr>\n",
              "      <th>25%</th>\n",
              "      <td>139.500000</td>\n",
              "      <td>0.0</td>\n",
              "      <td>16.000000</td>\n",
              "      <td>0.000000</td>\n",
              "      <td>1.000000</td>\n",
              "      <td>1.000000</td>\n",
              "      <td>9.000000</td>\n",
              "      <td>9.000000</td>\n",
              "      <td>10.000000</td>\n",
              "    </tr>\n",
              "    <tr>\n",
              "      <th>50%</th>\n",
              "      <td>281.500000</td>\n",
              "      <td>0.0</td>\n",
              "      <td>17.000000</td>\n",
              "      <td>0.000000</td>\n",
              "      <td>1.000000</td>\n",
              "      <td>3.000000</td>\n",
              "      <td>11.000000</td>\n",
              "      <td>11.000000</td>\n",
              "      <td>11.000000</td>\n",
              "    </tr>\n",
              "    <tr>\n",
              "      <th>75%</th>\n",
              "      <td>466.500000</td>\n",
              "      <td>0.0</td>\n",
              "      <td>18.000000</td>\n",
              "      <td>0.000000</td>\n",
              "      <td>2.000000</td>\n",
              "      <td>4.000000</td>\n",
              "      <td>13.000000</td>\n",
              "      <td>13.000000</td>\n",
              "      <td>13.000000</td>\n",
              "    </tr>\n",
              "    <tr>\n",
              "      <th>max</th>\n",
              "      <td>649.000000</td>\n",
              "      <td>0.0</td>\n",
              "      <td>22.000000</td>\n",
              "      <td>3.000000</td>\n",
              "      <td>5.000000</td>\n",
              "      <td>5.000000</td>\n",
              "      <td>18.000000</td>\n",
              "      <td>18.000000</td>\n",
              "      <td>19.000000</td>\n",
              "    </tr>\n",
              "  </tbody>\n",
              "</table>\n",
              "</div>"
            ],
            "text/plain": [
              "       student_id    sex         age  ...          G1          G2          G3\n",
              "count  266.000000  266.0  266.000000  ...  266.000000  266.000000  266.000000\n",
              "mean   299.680451    0.0   16.680451  ...   11.056391   11.206767   11.406015\n",
              "std    189.555785    0.0    1.276550  ...    2.640865    2.800019    3.320690\n",
              "min      6.000000    0.0   15.000000  ...    4.000000    0.000000    0.000000\n",
              "25%    139.500000    0.0   16.000000  ...    9.000000    9.000000   10.000000\n",
              "50%    281.500000    0.0   17.000000  ...   11.000000   11.000000   11.000000\n",
              "75%    466.500000    0.0   18.000000  ...   13.000000   13.000000   13.000000\n",
              "max    649.000000    0.0   22.000000  ...   18.000000   18.000000   19.000000\n",
              "\n",
              "[8 rows x 9 columns]"
            ]
          },
          "metadata": {
            "tags": []
          },
          "execution_count": 80
        }
      ]
    },
    {
      "cell_type": "code",
      "metadata": {
        "id": "oaary6U36k5b",
        "colab": {
          "base_uri": "https://localhost:8080/",
          "height": 34
        },
        "outputId": "103dfc64-e10e-43f2-c3f8-15615895e338"
      },
      "source": [
        "a = df['G3'].values\n",
        "b = df['Dalc'].values\n",
        "import scipy \n",
        "z = scipy.stats.pearsonr(a, b)\n",
        "z"
      ],
      "execution_count": null,
      "outputs": [
        {
          "output_type": "execute_result",
          "data": {
            "text/plain": [
              "(-0.20471939724815674, 1.4320359116843908e-07)"
            ]
          },
          "metadata": {
            "tags": []
          },
          "execution_count": 81
        }
      ]
    },
    {
      "cell_type": "code",
      "metadata": {
        "id": "Jv21fbXZ6k7u",
        "colab": {
          "base_uri": "https://localhost:8080/",
          "height": 34
        },
        "outputId": "149cd5bc-ca20-4c02-fc70-8b79c84581ea"
      },
      "source": [
        "a = df['G3'].values\n",
        "b = df['G1'].values\n",
        "scipy.stats.spearmanr(a, b)"
      ],
      "execution_count": null,
      "outputs": [
        {
          "output_type": "execute_result",
          "data": {
            "text/plain": [
              "SpearmanrResult(correlation=0.8832876374956353, pvalue=4.987374514661001e-215)"
            ]
          },
          "metadata": {
            "tags": []
          },
          "execution_count": 83
        }
      ]
    },
    {
      "cell_type": "code",
      "metadata": {
        "id": "VHS37Dgm6q_0",
        "colab": {
          "base_uri": "https://localhost:8080/",
          "height": 34
        },
        "outputId": "5bc225d0-d35d-4694-b25b-c921229bd1d6"
      },
      "source": [
        "import numpy as np\n",
        "numpy.corrcoef(a, b)[0, 1]"
      ],
      "execution_count": null,
      "outputs": [
        {
          "output_type": "execute_result",
          "data": {
            "text/plain": [
              "0.8263871247890474"
            ]
          },
          "metadata": {
            "tags": []
          },
          "execution_count": 96
        }
      ]
    },
    {
      "cell_type": "code",
      "metadata": {
        "id": "c53U9innplHb"
      },
      "source": [
        "from tensorflow.keras.models import Sequential\n",
        "from tensorflow.keras.layers import Dense\n",
        "from tensorflow.train import AdamOptimizer\n",
        "\n",
        "\n",
        "from sklearn.preprocessing import OneHotEncoder"
      ],
      "execution_count": null,
      "outputs": []
    },
    {
      "cell_type": "code",
      "metadata": {
        "id": "ygqmPi6doj3w"
      },
      "source": [
        "model = Sequential()\n",
        "\n",
        "model.add(Dense(50, input_shape=(8,), activation='relu'))\n",
        "model.add(Dense(50, activation='relu'))\n",
        "model.add(Dense(1))\n",
        "\n",
        "model.compile(optimizer=AdamOptimizer(0.01),\n",
        "             loss='mean_squared_error',\n",
        "              metrics=['mean_absolute_error'])"
      ],
      "execution_count": null,
      "outputs": []
    },
    {
      "cell_type": "code",
      "metadata": {
        "id": "sj0fXXrxp0ob",
        "colab": {
          "base_uri": "https://localhost:8080/",
          "height": 3454
        },
        "outputId": "28875ec1-f475-4469-ac56-049039b5e9e0"
      },
      "source": [
        "h = model.fit(X, y, epochs=100, batch_size=16, validation_split=0.2)"
      ],
      "execution_count": null,
      "outputs": [
        {
          "output_type": "stream",
          "text": [
            "Train on 519 samples, validate on 130 samples\n",
            "Epoch 1/100\n",
            "519/519 [==============================] - 0s 329us/sample - loss: 106.7151 - mean_absolute_error: 6.7908 - val_loss: 29.1893 - val_mean_absolute_error: 4.0679\n",
            "Epoch 2/100\n",
            "519/519 [==============================] - 0s 102us/sample - loss: 4.7572 - mean_absolute_error: 1.6638 - val_loss: 8.7559 - val_mean_absolute_error: 1.9000\n",
            "Epoch 3/100\n",
            "519/519 [==============================] - 0s 101us/sample - loss: 3.1283 - mean_absolute_error: 1.2938 - val_loss: 7.3162 - val_mean_absolute_error: 2.0334\n",
            "Epoch 4/100\n",
            "519/519 [==============================] - 0s 101us/sample - loss: 2.5780 - mean_absolute_error: 1.2141 - val_loss: 5.8069 - val_mean_absolute_error: 1.5140\n",
            "Epoch 5/100\n",
            "519/519 [==============================] - 0s 97us/sample - loss: 1.6376 - mean_absolute_error: 0.9156 - val_loss: 5.1343 - val_mean_absolute_error: 1.4646\n",
            "Epoch 6/100\n",
            "519/519 [==============================] - 0s 103us/sample - loss: 1.9061 - mean_absolute_error: 1.0148 - val_loss: 16.0928 - val_mean_absolute_error: 3.3704\n",
            "Epoch 7/100\n",
            "519/519 [==============================] - 0s 105us/sample - loss: 1.8146 - mean_absolute_error: 1.0005 - val_loss: 6.3411 - val_mean_absolute_error: 1.5268\n",
            "Epoch 8/100\n",
            "519/519 [==============================] - 0s 100us/sample - loss: 1.6148 - mean_absolute_error: 0.9156 - val_loss: 4.4237 - val_mean_absolute_error: 1.2571\n",
            "Epoch 9/100\n",
            "519/519 [==============================] - 0s 102us/sample - loss: 1.8685 - mean_absolute_error: 1.0162 - val_loss: 4.5410 - val_mean_absolute_error: 1.3746\n",
            "Epoch 10/100\n",
            "519/519 [==============================] - 0s 106us/sample - loss: 1.9377 - mean_absolute_error: 1.0075 - val_loss: 21.9762 - val_mean_absolute_error: 4.1679\n",
            "Epoch 11/100\n",
            "519/519 [==============================] - 0s 103us/sample - loss: 1.5586 - mean_absolute_error: 0.9007 - val_loss: 4.4210 - val_mean_absolute_error: 1.4933\n",
            "Epoch 12/100\n",
            "519/519 [==============================] - 0s 99us/sample - loss: 1.3913 - mean_absolute_error: 0.8397 - val_loss: 7.4737 - val_mean_absolute_error: 2.5022\n",
            "Epoch 13/100\n",
            "519/519 [==============================] - 0s 111us/sample - loss: 1.5291 - mean_absolute_error: 0.8968 - val_loss: 7.2129 - val_mean_absolute_error: 1.8172\n",
            "Epoch 14/100\n",
            "519/519 [==============================] - 0s 97us/sample - loss: 2.0330 - mean_absolute_error: 1.0615 - val_loss: 10.9660 - val_mean_absolute_error: 3.1313\n",
            "Epoch 15/100\n",
            "519/519 [==============================] - 0s 91us/sample - loss: 2.6716 - mean_absolute_error: 1.2188 - val_loss: 4.5015 - val_mean_absolute_error: 1.4808\n",
            "Epoch 16/100\n",
            "519/519 [==============================] - 0s 97us/sample - loss: 1.4285 - mean_absolute_error: 0.8767 - val_loss: 4.1527 - val_mean_absolute_error: 1.1610\n",
            "Epoch 17/100\n",
            "519/519 [==============================] - 0s 93us/sample - loss: 1.1794 - mean_absolute_error: 0.7595 - val_loss: 4.9835 - val_mean_absolute_error: 1.2822\n",
            "Epoch 18/100\n",
            "519/519 [==============================] - 0s 98us/sample - loss: 1.3549 - mean_absolute_error: 0.8272 - val_loss: 5.4208 - val_mean_absolute_error: 1.9791\n",
            "Epoch 19/100\n",
            "519/519 [==============================] - 0s 94us/sample - loss: 1.3724 - mean_absolute_error: 0.8256 - val_loss: 5.1931 - val_mean_absolute_error: 1.3093\n",
            "Epoch 20/100\n",
            "519/519 [==============================] - 0s 101us/sample - loss: 1.4113 - mean_absolute_error: 0.8753 - val_loss: 11.2156 - val_mean_absolute_error: 2.6798\n",
            "Epoch 21/100\n",
            "519/519 [==============================] - 0s 97us/sample - loss: 2.1016 - mean_absolute_error: 1.0627 - val_loss: 84.4847 - val_mean_absolute_error: 8.9434\n",
            "Epoch 22/100\n",
            "519/519 [==============================] - 0s 95us/sample - loss: 5.3278 - mean_absolute_error: 1.7995 - val_loss: 9.9022 - val_mean_absolute_error: 2.3072\n",
            "Epoch 23/100\n",
            "519/519 [==============================] - 0s 98us/sample - loss: 2.6823 - mean_absolute_error: 1.1889 - val_loss: 4.6688 - val_mean_absolute_error: 1.4513\n",
            "Epoch 24/100\n",
            "519/519 [==============================] - 0s 109us/sample - loss: 1.2545 - mean_absolute_error: 0.7913 - val_loss: 4.6428 - val_mean_absolute_error: 1.2144\n",
            "Epoch 25/100\n",
            "519/519 [==============================] - 0s 96us/sample - loss: 1.2420 - mean_absolute_error: 0.7687 - val_loss: 5.2163 - val_mean_absolute_error: 1.3650\n",
            "Epoch 26/100\n",
            "519/519 [==============================] - 0s 108us/sample - loss: 1.5556 - mean_absolute_error: 0.8873 - val_loss: 4.1942 - val_mean_absolute_error: 1.1715\n",
            "Epoch 27/100\n",
            "519/519 [==============================] - 0s 103us/sample - loss: 1.2228 - mean_absolute_error: 0.7500 - val_loss: 3.8345 - val_mean_absolute_error: 1.2458\n",
            "Epoch 28/100\n",
            "519/519 [==============================] - 0s 97us/sample - loss: 1.3541 - mean_absolute_error: 0.8335 - val_loss: 4.2826 - val_mean_absolute_error: 1.5069\n",
            "Epoch 29/100\n",
            "519/519 [==============================] - 0s 93us/sample - loss: 1.3888 - mean_absolute_error: 0.8616 - val_loss: 4.0451 - val_mean_absolute_error: 1.1801\n",
            "Epoch 30/100\n",
            "519/519 [==============================] - 0s 98us/sample - loss: 1.1422 - mean_absolute_error: 0.7496 - val_loss: 5.5251 - val_mean_absolute_error: 2.0425\n",
            "Epoch 31/100\n",
            "519/519 [==============================] - 0s 92us/sample - loss: 2.0395 - mean_absolute_error: 1.0418 - val_loss: 9.6003 - val_mean_absolute_error: 2.9136\n",
            "Epoch 32/100\n",
            "519/519 [==============================] - 0s 103us/sample - loss: 2.2919 - mean_absolute_error: 1.1249 - val_loss: 4.6621 - val_mean_absolute_error: 1.2062\n",
            "Epoch 33/100\n",
            "519/519 [==============================] - 0s 103us/sample - loss: 1.7394 - mean_absolute_error: 0.9812 - val_loss: 6.9365 - val_mean_absolute_error: 2.4093\n",
            "Epoch 34/100\n",
            "519/519 [==============================] - 0s 95us/sample - loss: 1.7200 - mean_absolute_error: 0.9568 - val_loss: 9.9478 - val_mean_absolute_error: 2.4374\n",
            "Epoch 35/100\n",
            "519/519 [==============================] - 0s 96us/sample - loss: 1.7030 - mean_absolute_error: 0.9388 - val_loss: 7.6384 - val_mean_absolute_error: 1.9173\n",
            "Epoch 36/100\n",
            "519/519 [==============================] - 0s 94us/sample - loss: 1.7031 - mean_absolute_error: 0.9537 - val_loss: 4.8269 - val_mean_absolute_error: 1.2419\n",
            "Epoch 37/100\n",
            "519/519 [==============================] - 0s 102us/sample - loss: 1.2851 - mean_absolute_error: 0.8102 - val_loss: 4.0596 - val_mean_absolute_error: 1.1381\n",
            "Epoch 38/100\n",
            "519/519 [==============================] - 0s 93us/sample - loss: 1.5749 - mean_absolute_error: 0.8881 - val_loss: 9.1648 - val_mean_absolute_error: 2.8535\n",
            "Epoch 39/100\n",
            "519/519 [==============================] - 0s 101us/sample - loss: 1.7422 - mean_absolute_error: 0.9609 - val_loss: 12.6945 - val_mean_absolute_error: 2.9241\n",
            "Epoch 40/100\n",
            "519/519 [==============================] - 0s 96us/sample - loss: 1.3188 - mean_absolute_error: 0.8105 - val_loss: 4.1910 - val_mean_absolute_error: 1.3826\n",
            "Epoch 41/100\n",
            "519/519 [==============================] - 0s 98us/sample - loss: 1.2382 - mean_absolute_error: 0.7844 - val_loss: 5.9398 - val_mean_absolute_error: 1.5327\n",
            "Epoch 42/100\n",
            "519/519 [==============================] - 0s 97us/sample - loss: 2.2091 - mean_absolute_error: 1.0945 - val_loss: 5.7030 - val_mean_absolute_error: 1.3732\n",
            "Epoch 43/100\n",
            "519/519 [==============================] - 0s 101us/sample - loss: 1.5484 - mean_absolute_error: 0.8931 - val_loss: 5.5536 - val_mean_absolute_error: 1.9716\n",
            "Epoch 44/100\n",
            "519/519 [==============================] - 0s 107us/sample - loss: 1.2973 - mean_absolute_error: 0.8045 - val_loss: 5.0496 - val_mean_absolute_error: 1.2556\n",
            "Epoch 45/100\n",
            "519/519 [==============================] - 0s 100us/sample - loss: 1.1894 - mean_absolute_error: 0.7516 - val_loss: 5.0883 - val_mean_absolute_error: 1.2493\n",
            "Epoch 46/100\n",
            "519/519 [==============================] - 0s 101us/sample - loss: 1.2644 - mean_absolute_error: 0.7989 - val_loss: 4.0055 - val_mean_absolute_error: 1.1851\n",
            "Epoch 47/100\n",
            "519/519 [==============================] - 0s 96us/sample - loss: 1.1459 - mean_absolute_error: 0.7534 - val_loss: 4.0379 - val_mean_absolute_error: 1.1373\n",
            "Epoch 48/100\n",
            "519/519 [==============================] - 0s 105us/sample - loss: 1.3559 - mean_absolute_error: 0.8382 - val_loss: 5.1751 - val_mean_absolute_error: 1.9033\n",
            "Epoch 49/100\n",
            "519/519 [==============================] - 0s 98us/sample - loss: 1.1861 - mean_absolute_error: 0.7543 - val_loss: 5.1838 - val_mean_absolute_error: 1.3318\n",
            "Epoch 50/100\n",
            "519/519 [==============================] - 0s 101us/sample - loss: 1.4451 - mean_absolute_error: 0.8573 - val_loss: 10.4538 - val_mean_absolute_error: 2.5695\n",
            "Epoch 51/100\n",
            "519/519 [==============================] - 0s 100us/sample - loss: 2.2590 - mean_absolute_error: 1.1315 - val_loss: 8.6263 - val_mean_absolute_error: 2.1539\n",
            "Epoch 52/100\n",
            "519/519 [==============================] - 0s 98us/sample - loss: 1.1030 - mean_absolute_error: 0.7181 - val_loss: 4.1844 - val_mean_absolute_error: 1.3487\n",
            "Epoch 53/100\n",
            "519/519 [==============================] - 0s 94us/sample - loss: 1.2678 - mean_absolute_error: 0.7874 - val_loss: 4.1666 - val_mean_absolute_error: 1.3792\n",
            "Epoch 54/100\n",
            "519/519 [==============================] - 0s 99us/sample - loss: 1.3386 - mean_absolute_error: 0.8275 - val_loss: 7.9308 - val_mean_absolute_error: 1.9944\n",
            "Epoch 55/100\n",
            "519/519 [==============================] - 0s 99us/sample - loss: 1.1372 - mean_absolute_error: 0.7631 - val_loss: 4.3948 - val_mean_absolute_error: 1.6112\n",
            "Epoch 56/100\n",
            "519/519 [==============================] - 0s 94us/sample - loss: 1.1585 - mean_absolute_error: 0.7506 - val_loss: 12.4001 - val_mean_absolute_error: 2.9039\n",
            "Epoch 57/100\n",
            "519/519 [==============================] - 0s 96us/sample - loss: 1.3219 - mean_absolute_error: 0.8165 - val_loss: 3.8475 - val_mean_absolute_error: 1.2897\n",
            "Epoch 58/100\n",
            "519/519 [==============================] - 0s 96us/sample - loss: 1.5330 - mean_absolute_error: 0.8964 - val_loss: 7.3725 - val_mean_absolute_error: 1.9169\n",
            "Epoch 59/100\n",
            "519/519 [==============================] - 0s 99us/sample - loss: 1.1369 - mean_absolute_error: 0.7326 - val_loss: 3.8766 - val_mean_absolute_error: 1.3215\n",
            "Epoch 60/100\n",
            "519/519 [==============================] - 0s 101us/sample - loss: 1.2050 - mean_absolute_error: 0.7616 - val_loss: 3.8790 - val_mean_absolute_error: 1.1396\n",
            "Epoch 61/100\n",
            "519/519 [==============================] - 0s 95us/sample - loss: 1.5086 - mean_absolute_error: 0.8994 - val_loss: 13.2819 - val_mean_absolute_error: 3.0561\n",
            "Epoch 62/100\n",
            "519/519 [==============================] - 0s 97us/sample - loss: 2.2213 - mean_absolute_error: 1.1209 - val_loss: 11.1040 - val_mean_absolute_error: 2.6570\n",
            "Epoch 63/100\n",
            "519/519 [==============================] - 0s 92us/sample - loss: 1.6821 - mean_absolute_error: 0.9454 - val_loss: 4.9890 - val_mean_absolute_error: 1.2224\n",
            "Epoch 64/100\n",
            "519/519 [==============================] - 0s 96us/sample - loss: 1.1212 - mean_absolute_error: 0.7241 - val_loss: 7.7057 - val_mean_absolute_error: 1.9304\n",
            "Epoch 65/100\n",
            "519/519 [==============================] - 0s 95us/sample - loss: 1.1305 - mean_absolute_error: 0.7268 - val_loss: 10.9097 - val_mean_absolute_error: 2.5889\n",
            "Epoch 66/100\n",
            "519/519 [==============================] - 0s 103us/sample - loss: 1.1775 - mean_absolute_error: 0.7427 - val_loss: 5.7023 - val_mean_absolute_error: 1.4199\n",
            "Epoch 67/100\n",
            "519/519 [==============================] - 0s 98us/sample - loss: 1.0983 - mean_absolute_error: 0.7128 - val_loss: 6.9716 - val_mean_absolute_error: 1.7754\n",
            "Epoch 68/100\n",
            "519/519 [==============================] - 0s 98us/sample - loss: 1.1526 - mean_absolute_error: 0.7418 - val_loss: 5.0480 - val_mean_absolute_error: 1.3091\n",
            "Epoch 69/100\n",
            "519/519 [==============================] - 0s 94us/sample - loss: 1.4740 - mean_absolute_error: 0.8885 - val_loss: 6.2998 - val_mean_absolute_error: 1.6477\n",
            "Epoch 70/100\n",
            "519/519 [==============================] - 0s 98us/sample - loss: 1.5164 - mean_absolute_error: 0.8696 - val_loss: 4.0445 - val_mean_absolute_error: 1.4322\n",
            "Epoch 71/100\n",
            "519/519 [==============================] - 0s 100us/sample - loss: 1.1539 - mean_absolute_error: 0.7387 - val_loss: 3.9196 - val_mean_absolute_error: 1.1526\n",
            "Epoch 72/100\n",
            "519/519 [==============================] - 0s 96us/sample - loss: 1.1117 - mean_absolute_error: 0.7438 - val_loss: 4.4441 - val_mean_absolute_error: 1.1718\n",
            "Epoch 73/100\n",
            "519/519 [==============================] - 0s 103us/sample - loss: 1.1704 - mean_absolute_error: 0.7445 - val_loss: 3.9675 - val_mean_absolute_error: 1.1480\n",
            "Epoch 74/100\n",
            "519/519 [==============================] - 0s 97us/sample - loss: 1.0993 - mean_absolute_error: 0.7292 - val_loss: 5.8874 - val_mean_absolute_error: 1.5384\n",
            "Epoch 75/100\n",
            "519/519 [==============================] - 0s 99us/sample - loss: 1.1513 - mean_absolute_error: 0.7436 - val_loss: 4.1811 - val_mean_absolute_error: 1.1352\n",
            "Epoch 76/100\n",
            "519/519 [==============================] - 0s 100us/sample - loss: 1.2443 - mean_absolute_error: 0.7680 - val_loss: 5.9652 - val_mean_absolute_error: 1.5762\n",
            "Epoch 77/100\n",
            "519/519 [==============================] - 0s 99us/sample - loss: 1.3810 - mean_absolute_error: 0.8424 - val_loss: 4.0467 - val_mean_absolute_error: 1.4500\n",
            "Epoch 78/100\n",
            "519/519 [==============================] - 0s 97us/sample - loss: 1.2891 - mean_absolute_error: 0.7974 - val_loss: 4.0307 - val_mean_absolute_error: 1.1281\n",
            "Epoch 79/100\n",
            "519/519 [==============================] - 0s 104us/sample - loss: 1.1161 - mean_absolute_error: 0.7249 - val_loss: 4.4163 - val_mean_absolute_error: 1.1668\n",
            "Epoch 80/100\n",
            "519/519 [==============================] - 0s 98us/sample - loss: 1.2549 - mean_absolute_error: 0.7910 - val_loss: 7.0460 - val_mean_absolute_error: 1.8292\n",
            "Epoch 81/100\n",
            "519/519 [==============================] - 0s 98us/sample - loss: 1.2401 - mean_absolute_error: 0.7674 - val_loss: 3.8647 - val_mean_absolute_error: 1.2953\n",
            "Epoch 82/100\n",
            "519/519 [==============================] - 0s 97us/sample - loss: 1.6118 - mean_absolute_error: 0.8992 - val_loss: 4.4121 - val_mean_absolute_error: 1.6059\n",
            "Epoch 83/100\n",
            "519/519 [==============================] - 0s 100us/sample - loss: 1.3789 - mean_absolute_error: 0.8300 - val_loss: 4.4956 - val_mean_absolute_error: 1.1609\n",
            "Epoch 84/100\n",
            "519/519 [==============================] - 0s 103us/sample - loss: 1.0865 - mean_absolute_error: 0.7025 - val_loss: 3.9163 - val_mean_absolute_error: 1.2513\n",
            "Epoch 85/100\n",
            "519/519 [==============================] - 0s 102us/sample - loss: 1.3208 - mean_absolute_error: 0.8075 - val_loss: 7.0353 - val_mean_absolute_error: 1.8181\n",
            "Epoch 86/100\n",
            "519/519 [==============================] - 0s 104us/sample - loss: 1.1082 - mean_absolute_error: 0.7298 - val_loss: 4.7011 - val_mean_absolute_error: 1.2353\n",
            "Epoch 87/100\n",
            "519/519 [==============================] - 0s 95us/sample - loss: 1.1823 - mean_absolute_error: 0.7559 - val_loss: 4.8991 - val_mean_absolute_error: 1.2329\n",
            "Epoch 88/100\n",
            "519/519 [==============================] - 0s 102us/sample - loss: 1.1042 - mean_absolute_error: 0.7143 - val_loss: 4.4017 - val_mean_absolute_error: 1.1532\n",
            "Epoch 89/100\n",
            "519/519 [==============================] - 0s 93us/sample - loss: 1.2674 - mean_absolute_error: 0.7826 - val_loss: 20.1723 - val_mean_absolute_error: 4.0639\n",
            "Epoch 90/100\n",
            "519/519 [==============================] - 0s 102us/sample - loss: 1.5268 - mean_absolute_error: 0.8751 - val_loss: 3.8770 - val_mean_absolute_error: 1.0990\n",
            "Epoch 91/100\n",
            "519/519 [==============================] - 0s 100us/sample - loss: 1.2569 - mean_absolute_error: 0.7903 - val_loss: 4.7533 - val_mean_absolute_error: 1.2320\n",
            "Epoch 92/100\n",
            "519/519 [==============================] - 0s 99us/sample - loss: 1.3649 - mean_absolute_error: 0.8212 - val_loss: 3.7195 - val_mean_absolute_error: 1.1178\n",
            "Epoch 93/100\n",
            "519/519 [==============================] - 0s 94us/sample - loss: 1.1322 - mean_absolute_error: 0.7479 - val_loss: 4.0400 - val_mean_absolute_error: 1.1184\n",
            "Epoch 94/100\n",
            "519/519 [==============================] - 0s 99us/sample - loss: 1.0572 - mean_absolute_error: 0.7053 - val_loss: 4.6072 - val_mean_absolute_error: 1.2200\n",
            "Epoch 95/100\n",
            "519/519 [==============================] - 0s 93us/sample - loss: 1.0792 - mean_absolute_error: 0.7050 - val_loss: 4.2280 - val_mean_absolute_error: 1.1412\n",
            "Epoch 96/100\n",
            "519/519 [==============================] - 0s 99us/sample - loss: 1.0832 - mean_absolute_error: 0.7026 - val_loss: 3.7230 - val_mean_absolute_error: 1.0876\n",
            "Epoch 97/100\n",
            "519/519 [==============================] - 0s 99us/sample - loss: 1.4148 - mean_absolute_error: 0.8377 - val_loss: 3.7750 - val_mean_absolute_error: 1.1489\n",
            "Epoch 98/100\n",
            "519/519 [==============================] - 0s 100us/sample - loss: 1.2724 - mean_absolute_error: 0.7968 - val_loss: 4.0886 - val_mean_absolute_error: 1.1674\n",
            "Epoch 99/100\n",
            "519/519 [==============================] - 0s 97us/sample - loss: 1.1674 - mean_absolute_error: 0.7503 - val_loss: 4.0494 - val_mean_absolute_error: 1.1508\n",
            "Epoch 100/100\n",
            "519/519 [==============================] - 0s 94us/sample - loss: 1.0156 - mean_absolute_error: 0.6822 - val_loss: 3.6308 - val_mean_absolute_error: 1.0934\n"
          ],
          "name": "stdout"
        }
      ]
    },
    {
      "cell_type": "code",
      "metadata": {
        "id": "WO1WveJpp0qx",
        "colab": {
          "base_uri": "https://localhost:8080/",
          "height": 286
        },
        "outputId": "bc982e9a-e18e-4046-a4ec-7cca494f58bc"
      },
      "source": [
        "import matplotlib.pyplot as plt\n",
        "plt.plot(h.history['loss'])\n",
        "plt.plot(h.history['val_loss'])"
      ],
      "execution_count": null,
      "outputs": [
        {
          "output_type": "execute_result",
          "data": {
            "text/plain": [
              "[<matplotlib.lines.Line2D at 0x7f3ed17aa1d0>]"
            ]
          },
          "metadata": {
            "tags": []
          },
          "execution_count": 59
        },
        {
          "output_type": "display_data",
          "data": {
            "image/png": "[encoded data removed]",
            "text/plain": [
              "<Figure size 432x288 with 1 Axes>"
            ]
          },
          "metadata": {
            "tags": []
          }
        }
      ]
    },
    {
      "cell_type": "code",
      "metadata": {
        "id": "ORFAV5M2p0tA",
        "colab": {
          "base_uri": "https://localhost:8080/",
          "height": 270
        },
        "outputId": "86dc82b3-26f9-48eb-872b-803b17c19376"
      },
      "source": [
        "plt.scatter(x=df['student_id'],y=df['G3'])\n",
        "plt.show()"
      ],
      "execution_count": null,
      "outputs": [
        {
          "output_type": "display_data",
          "data": {
            "image/png": "[encoded data removed]",
            "text/plain": [
              "<Figure size 432x288 with 1 Axes>"
            ]
          },
          "metadata": {
            "tags": []
          }
        }
      ]
    },
    {
      "cell_type": "code",
      "metadata": {
        "id": "kldXj9y4txxI",
        "colab": {
          "base_uri": "https://localhost:8080/",
          "height": 270
        },
        "outputId": "553ec7ae-d3a5-4910-d5df-cbbb721c0f47"
      },
      "source": [
        "plt.scatter(x=df['student_id'],y=df['G1'])\n",
        "plt.show()"
      ],
      "execution_count": null,
      "outputs": [
        {
          "output_type": "display_data",
          "data": {
            "image/png": "[encoded data removed]",
            "text/plain": [
              "<Figure size 432x288 with 1 Axes>"
            ]
          },
          "metadata": {
            "tags": []
          }
        }
      ]
    },
    {
      "cell_type": "code",
      "metadata": {
        "id": "3vjBe-KVtyCR"
      },
      "source": [
        "X = df.drop(['G3'], axis=1).values\n",
        "y = df['G3'].values"
      ],
      "execution_count": null,
      "outputs": []
    },
    {
      "cell_type": "code",
      "metadata": {
        "id": "3i67z4GXtyNt"
      },
      "source": [
        "from sklearn.model_selection import train_test_split\n",
        "X_train, X_valid, y_train, y_valid = train_test_split(X, y, test_size=0.2, random_state=42)"
      ],
      "execution_count": null,
      "outputs": []
    },
    {
      "cell_type": "code",
      "metadata": {
        "id": "fpNczJRrtxmV"
      },
      "source": [
        "X = df[['G1','failures']].values\n",
        "y = df['G3'].values"
      ],
      "execution_count": null,
      "outputs": []
    },
    {
      "cell_type": "code",
      "metadata": {
        "id": "ZN9zAtHz7B9b",
        "colab": {
          "base_uri": "https://localhost:8080/",
          "height": 34
        },
        "outputId": "0af7b52e-bbcf-489e-bf48-817b2992b79e"
      },
      "source": [
        "from sklearn.linear_model import LinearRegression\n",
        "reg = LinearRegression().fit(X, y)\n",
        "reg.score(X, y)\n"
      ],
      "execution_count": null,
      "outputs": [
        {
          "output_type": "execute_result",
          "data": {
            "text/plain": [
              "0.6896579574709202"
            ]
          },
          "metadata": {
            "tags": []
          },
          "execution_count": 93
        }
      ]
    },
    {
      "cell_type": "code",
      "metadata": {
        "id": "atNXI0_t7M2M",
        "colab": {
          "base_uri": "https://localhost:8080/",
          "height": 34
        },
        "outputId": "774303e2-4287-4c3d-91bd-ce64b1f9008f"
      },
      "source": [
        "from sklearn.ensemble import ExtraTreesClassifier\n",
        "from sklearn.feature_selection import SelectFromModel\n",
        "from sklearn.tree import DecisionTreeClassifier\n",
        "\n",
        "clf = DecisionTreeClassifier(random_state = 0) \n",
        "clf = clf.fit(X, y)\n",
        "clf.score(X, y)"
      ],
      "execution_count": null,
      "outputs": [
        {
          "output_type": "execute_result",
          "data": {
            "text/plain": [
              "0.37750385208012327"
            ]
          },
          "metadata": {
            "tags": []
          },
          "execution_count": 94
        }
      ]
    },
    {
      "cell_type": "code",
      "metadata": {
        "id": "j_WtWIfg7CAC",
        "colab": {
          "base_uri": "https://localhost:8080/",
          "height": 34
        },
        "outputId": "218c1562-7355-4527-a4c9-f5194e441b38"
      },
      "source": [
        "clf.predict(np.array([[12, 0]]))"
      ],
      "execution_count": null,
      "outputs": [
        {
          "output_type": "execute_result",
          "data": {
            "text/plain": [
              "array([12])"
            ]
          },
          "metadata": {
            "tags": []
          },
          "execution_count": 98
        }
      ]
    },
    {
      "cell_type": "code",
      "metadata": {
        "id": "_sWFmHAK7CCO"
      },
      "source": [
        ""
      ],
      "execution_count": null,
      "outputs": []
    },
    {
      "cell_type": "code",
      "metadata": {
        "id": "hWsf5vf87CEl"
      },
      "source": [
        ""
      ],
      "execution_count": null,
      "outputs": []
    },
    {
      "cell_type": "code",
      "metadata": {
        "id": "u9qMfHKM7CG9"
      },
      "source": [
        ""
      ],
      "execution_count": null,
      "outputs": []
    }
  ]
}